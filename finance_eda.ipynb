{
 "cells": [
  {
   "cell_type": "markdown",
   "id": "e9966cce",
   "metadata": {},
   "source": [
    "# 🧾 Financial Health Analysis for Retail Stores\n",
    "\n",
    "This Analysis explores the financial performance of 3 retail stores over a 12-month period.\n",
    "We analyse revenue trends, profit margins, and operational costs using Python and pandas.\n"
   ]
  },
  {
   "cell_type": "code",
   "execution_count": 1,
   "id": "7a2a7af4",
   "metadata": {},
   "outputs": [],
   "source": [
    "import pandas as pd\n",
    "import numpy as np\n",
    "import matplotlib.pyplot as plt\n",
    "import seaborn as sns\n",
    "from sklearn.model_selection import train_test_split\n",
    "from sklearn.linear_model import LinearRegression\n"
   ]
  },
  {
   "cell_type": "code",
   "execution_count": 2,
   "id": "0c11c007",
   "metadata": {},
   "outputs": [
    {
     "name": "stdout",
     "output_type": "stream",
     "text": [
      "     Store    Month  Revenue    COGS  Operating_Expenses  Taxes  Net_Profit\n",
      "0  Store A  2023-01   321958  180073               70297  17897       53691\n",
      "1  Store A  2023-02   319879  166251               68966  21165       63497\n",
      "2  Store A  2023-03   287498  164803               74781  11978       35936\n",
      "3  Store A  2023-04   478167  253513               98330  31581       94743\n",
      "4  Store A  2023-05   394027  231573               78836  20904       62714\n"
     ]
    }
   ],
   "source": [
    "# Define the file path\n",
    "file_path = r'C:\\Users\\THANDO\\Desktop\\DataPortfolio\\FinancialDashboard\\data\\retail_financials.xlsx'\n",
    "\n",
    "# Read the file into a DataFrame\n",
    "df = pd.read_excel(file_path)\n",
    "\n",
    "# Display the first 5 rows\n",
    "print(df.head())"
   ]
  },
  {
   "cell_type": "markdown",
   "id": "268737dd",
   "metadata": {},
   "source": [
    "**Summary Statistics**"
   ]
  },
  {
   "cell_type": "code",
   "execution_count": 3,
   "id": "15f30a0d",
   "metadata": {},
   "outputs": [
    {
     "data": {
      "application/vnd.microsoft.datawrangler.viewer.v0+json": {
       "columns": [
        {
         "name": "index",
         "rawType": "object",
         "type": "string"
        },
        {
         "name": "Revenue",
         "rawType": "float64",
         "type": "float"
        },
        {
         "name": "COGS",
         "rawType": "float64",
         "type": "float"
        },
        {
         "name": "Operating_Expenses",
         "rawType": "float64",
         "type": "float"
        },
        {
         "name": "Taxes",
         "rawType": "float64",
         "type": "float"
        },
        {
         "name": "Net_Profit",
         "rawType": "float64",
         "type": "float"
        }
       ],
       "ref": "f4ca9c87-6f86-4bdc-ab60-fa486fcd4d58",
       "rows": [
        [
         "count",
         "36.0",
         "36.0",
         "36.0",
         "36.0",
         "36.0"
        ],
        [
         "mean",
         "365689.8611111111",
         "188185.0",
         "90318.5",
         "21796.194444444445",
         "65390.166666666664"
        ],
        [
         "std",
         "87167.79242002266",
         "56061.639248751395",
         "25135.556933782642",
         "7074.288345104583",
         "21222.76242891782"
        ],
        [
         "min",
         "211534.0",
         "88357.0",
         "45385.0",
         "7805.0",
         "23418.0"
        ],
        [
         "25%",
         "302217.75",
         "150040.5",
         "69515.25",
         "16069.5",
         "48209.25"
        ],
        [
         "50%",
         "352029.0",
         "182064.5",
         "91053.5",
         "20932.5",
         "62799.5"
        ],
        [
         "75%",
         "450622.5",
         "227043.0",
         "115190.0",
         "26533.0",
         "79600.5"
        ],
        [
         "max",
         "497366.0",
         "281301.0",
         "134716.0",
         "39331.0",
         "117995.0"
        ]
       ],
       "shape": {
        "columns": 5,
        "rows": 8
       }
      },
      "text/html": [
       "<div>\n",
       "<style scoped>\n",
       "    .dataframe tbody tr th:only-of-type {\n",
       "        vertical-align: middle;\n",
       "    }\n",
       "\n",
       "    .dataframe tbody tr th {\n",
       "        vertical-align: top;\n",
       "    }\n",
       "\n",
       "    .dataframe thead th {\n",
       "        text-align: right;\n",
       "    }\n",
       "</style>\n",
       "<table border=\"1\" class=\"dataframe\">\n",
       "  <thead>\n",
       "    <tr style=\"text-align: right;\">\n",
       "      <th></th>\n",
       "      <th>Revenue</th>\n",
       "      <th>COGS</th>\n",
       "      <th>Operating_Expenses</th>\n",
       "      <th>Taxes</th>\n",
       "      <th>Net_Profit</th>\n",
       "    </tr>\n",
       "  </thead>\n",
       "  <tbody>\n",
       "    <tr>\n",
       "      <th>count</th>\n",
       "      <td>36.000000</td>\n",
       "      <td>36.000000</td>\n",
       "      <td>36.000000</td>\n",
       "      <td>36.000000</td>\n",
       "      <td>36.000000</td>\n",
       "    </tr>\n",
       "    <tr>\n",
       "      <th>mean</th>\n",
       "      <td>365689.861111</td>\n",
       "      <td>188185.000000</td>\n",
       "      <td>90318.500000</td>\n",
       "      <td>21796.194444</td>\n",
       "      <td>65390.166667</td>\n",
       "    </tr>\n",
       "    <tr>\n",
       "      <th>std</th>\n",
       "      <td>87167.792420</td>\n",
       "      <td>56061.639249</td>\n",
       "      <td>25135.556934</td>\n",
       "      <td>7074.288345</td>\n",
       "      <td>21222.762429</td>\n",
       "    </tr>\n",
       "    <tr>\n",
       "      <th>min</th>\n",
       "      <td>211534.000000</td>\n",
       "      <td>88357.000000</td>\n",
       "      <td>45385.000000</td>\n",
       "      <td>7805.000000</td>\n",
       "      <td>23418.000000</td>\n",
       "    </tr>\n",
       "    <tr>\n",
       "      <th>25%</th>\n",
       "      <td>302217.750000</td>\n",
       "      <td>150040.500000</td>\n",
       "      <td>69515.250000</td>\n",
       "      <td>16069.500000</td>\n",
       "      <td>48209.250000</td>\n",
       "    </tr>\n",
       "    <tr>\n",
       "      <th>50%</th>\n",
       "      <td>352029.000000</td>\n",
       "      <td>182064.500000</td>\n",
       "      <td>91053.500000</td>\n",
       "      <td>20932.500000</td>\n",
       "      <td>62799.500000</td>\n",
       "    </tr>\n",
       "    <tr>\n",
       "      <th>75%</th>\n",
       "      <td>450622.500000</td>\n",
       "      <td>227043.000000</td>\n",
       "      <td>115190.000000</td>\n",
       "      <td>26533.000000</td>\n",
       "      <td>79600.500000</td>\n",
       "    </tr>\n",
       "    <tr>\n",
       "      <th>max</th>\n",
       "      <td>497366.000000</td>\n",
       "      <td>281301.000000</td>\n",
       "      <td>134716.000000</td>\n",
       "      <td>39331.000000</td>\n",
       "      <td>117995.000000</td>\n",
       "    </tr>\n",
       "  </tbody>\n",
       "</table>\n",
       "</div>"
      ],
      "text/plain": [
       "             Revenue           COGS  Operating_Expenses         Taxes  \\\n",
       "count      36.000000      36.000000           36.000000     36.000000   \n",
       "mean   365689.861111  188185.000000        90318.500000  21796.194444   \n",
       "std     87167.792420   56061.639249        25135.556934   7074.288345   \n",
       "min    211534.000000   88357.000000        45385.000000   7805.000000   \n",
       "25%    302217.750000  150040.500000        69515.250000  16069.500000   \n",
       "50%    352029.000000  182064.500000        91053.500000  20932.500000   \n",
       "75%    450622.500000  227043.000000       115190.000000  26533.000000   \n",
       "max    497366.000000  281301.000000       134716.000000  39331.000000   \n",
       "\n",
       "          Net_Profit  \n",
       "count      36.000000  \n",
       "mean    65390.166667  \n",
       "std     21222.762429  \n",
       "min     23418.000000  \n",
       "25%     48209.250000  \n",
       "50%     62799.500000  \n",
       "75%     79600.500000  \n",
       "max    117995.000000  "
      ]
     },
     "execution_count": 3,
     "metadata": {},
     "output_type": "execute_result"
    }
   ],
   "source": [
    "df.describe()"
   ]
  },
  {
   "cell_type": "markdown",
   "id": "ff078fb1",
   "metadata": {},
   "source": [
    "***Check missing values***"
   ]
  },
  {
   "cell_type": "code",
   "execution_count": 4,
   "id": "562dc736",
   "metadata": {},
   "outputs": [
    {
     "data": {
      "application/vnd.microsoft.datawrangler.viewer.v0+json": {
       "columns": [
        {
         "name": "index",
         "rawType": "object",
         "type": "string"
        },
        {
         "name": "0",
         "rawType": "int64",
         "type": "integer"
        }
       ],
       "ref": "44059f3b-b994-4b87-beb6-cc5b9884334c",
       "rows": [
        [
         "Store",
         "0"
        ],
        [
         "Month",
         "0"
        ],
        [
         "Revenue",
         "0"
        ],
        [
         "COGS",
         "0"
        ],
        [
         "Operating_Expenses",
         "0"
        ],
        [
         "Taxes",
         "0"
        ],
        [
         "Net_Profit",
         "0"
        ]
       ],
       "shape": {
        "columns": 1,
        "rows": 7
       }
      },
      "text/plain": [
       "Store                 0\n",
       "Month                 0\n",
       "Revenue               0\n",
       "COGS                  0\n",
       "Operating_Expenses    0\n",
       "Taxes                 0\n",
       "Net_Profit            0\n",
       "dtype: int64"
      ]
     },
     "execution_count": 4,
     "metadata": {},
     "output_type": "execute_result"
    }
   ],
   "source": [
    "df.isnull().sum()"
   ]
  },
  {
   "cell_type": "markdown",
   "id": "8aebb189",
   "metadata": {},
   "source": [
    "***Calculate profit margin (%) for each row***"
   ]
  },
  {
   "cell_type": "code",
   "execution_count": 5,
   "id": "e2354179",
   "metadata": {},
   "outputs": [
    {
     "data": {
      "application/vnd.microsoft.datawrangler.viewer.v0+json": {
       "columns": [
        {
         "name": "index",
         "rawType": "int64",
         "type": "integer"
        },
        {
         "name": "Store",
         "rawType": "object",
         "type": "string"
        },
        {
         "name": "Month",
         "rawType": "object",
         "type": "string"
        },
        {
         "name": "Revenue",
         "rawType": "int64",
         "type": "integer"
        },
        {
         "name": "COGS",
         "rawType": "int64",
         "type": "integer"
        },
        {
         "name": "Operating_Expenses",
         "rawType": "int64",
         "type": "integer"
        },
        {
         "name": "Taxes",
         "rawType": "int64",
         "type": "integer"
        },
        {
         "name": "Net_Profit",
         "rawType": "int64",
         "type": "integer"
        },
        {
         "name": "Profit_Margin",
         "rawType": "float64",
         "type": "float"
        }
       ],
       "ref": "c5fe2b6b-74a2-4a63-8797-edb2e02e0012",
       "rows": [
        [
         "0",
         "Store A",
         "2023-01",
         "321958",
         "180073",
         "70297",
         "17897",
         "53691",
         "16.676398784934683"
        ],
        [
         "1",
         "Store A",
         "2023-02",
         "319879",
         "166251",
         "68966",
         "21165",
         "63497",
         "19.850318401645623"
        ],
        [
         "2",
         "Store A",
         "2023-03",
         "287498",
         "164803",
         "74781",
         "11978",
         "35936",
         "12.49956521436671"
        ],
        [
         "3",
         "Store A",
         "2023-04",
         "478167",
         "253513",
         "98330",
         "31581",
         "94743",
         "19.81378890638626"
        ],
        [
         "4",
         "Store A",
         "2023-05",
         "394027",
         "231573",
         "78836",
         "20904",
         "62714",
         "15.916168181368281"
        ]
       ],
       "shape": {
        "columns": 8,
        "rows": 5
       }
      },
      "text/html": [
       "<div>\n",
       "<style scoped>\n",
       "    .dataframe tbody tr th:only-of-type {\n",
       "        vertical-align: middle;\n",
       "    }\n",
       "\n",
       "    .dataframe tbody tr th {\n",
       "        vertical-align: top;\n",
       "    }\n",
       "\n",
       "    .dataframe thead th {\n",
       "        text-align: right;\n",
       "    }\n",
       "</style>\n",
       "<table border=\"1\" class=\"dataframe\">\n",
       "  <thead>\n",
       "    <tr style=\"text-align: right;\">\n",
       "      <th></th>\n",
       "      <th>Store</th>\n",
       "      <th>Month</th>\n",
       "      <th>Revenue</th>\n",
       "      <th>COGS</th>\n",
       "      <th>Operating_Expenses</th>\n",
       "      <th>Taxes</th>\n",
       "      <th>Net_Profit</th>\n",
       "      <th>Profit_Margin</th>\n",
       "    </tr>\n",
       "  </thead>\n",
       "  <tbody>\n",
       "    <tr>\n",
       "      <th>0</th>\n",
       "      <td>Store A</td>\n",
       "      <td>2023-01</td>\n",
       "      <td>321958</td>\n",
       "      <td>180073</td>\n",
       "      <td>70297</td>\n",
       "      <td>17897</td>\n",
       "      <td>53691</td>\n",
       "      <td>16.676399</td>\n",
       "    </tr>\n",
       "    <tr>\n",
       "      <th>1</th>\n",
       "      <td>Store A</td>\n",
       "      <td>2023-02</td>\n",
       "      <td>319879</td>\n",
       "      <td>166251</td>\n",
       "      <td>68966</td>\n",
       "      <td>21165</td>\n",
       "      <td>63497</td>\n",
       "      <td>19.850318</td>\n",
       "    </tr>\n",
       "    <tr>\n",
       "      <th>2</th>\n",
       "      <td>Store A</td>\n",
       "      <td>2023-03</td>\n",
       "      <td>287498</td>\n",
       "      <td>164803</td>\n",
       "      <td>74781</td>\n",
       "      <td>11978</td>\n",
       "      <td>35936</td>\n",
       "      <td>12.499565</td>\n",
       "    </tr>\n",
       "    <tr>\n",
       "      <th>3</th>\n",
       "      <td>Store A</td>\n",
       "      <td>2023-04</td>\n",
       "      <td>478167</td>\n",
       "      <td>253513</td>\n",
       "      <td>98330</td>\n",
       "      <td>31581</td>\n",
       "      <td>94743</td>\n",
       "      <td>19.813789</td>\n",
       "    </tr>\n",
       "    <tr>\n",
       "      <th>4</th>\n",
       "      <td>Store A</td>\n",
       "      <td>2023-05</td>\n",
       "      <td>394027</td>\n",
       "      <td>231573</td>\n",
       "      <td>78836</td>\n",
       "      <td>20904</td>\n",
       "      <td>62714</td>\n",
       "      <td>15.916168</td>\n",
       "    </tr>\n",
       "  </tbody>\n",
       "</table>\n",
       "</div>"
      ],
      "text/plain": [
       "     Store    Month  Revenue    COGS  Operating_Expenses  Taxes  Net_Profit  \\\n",
       "0  Store A  2023-01   321958  180073               70297  17897       53691   \n",
       "1  Store A  2023-02   319879  166251               68966  21165       63497   \n",
       "2  Store A  2023-03   287498  164803               74781  11978       35936   \n",
       "3  Store A  2023-04   478167  253513               98330  31581       94743   \n",
       "4  Store A  2023-05   394027  231573               78836  20904       62714   \n",
       "\n",
       "   Profit_Margin  \n",
       "0      16.676399  \n",
       "1      19.850318  \n",
       "2      12.499565  \n",
       "3      19.813789  \n",
       "4      15.916168  "
      ]
     },
     "execution_count": 5,
     "metadata": {},
     "output_type": "execute_result"
    }
   ],
   "source": [
    "df['Profit_Margin'] = (df['Net_Profit'] / df['Revenue']) * 100\n",
    "df.head()\n"
   ]
  },
  {
   "cell_type": "markdown",
   "id": "12fb8abd",
   "metadata": {},
   "source": [
    "***Summary stats of profit margin by store***"
   ]
  },
  {
   "cell_type": "code",
   "execution_count": 6,
   "id": "fdd44aaa",
   "metadata": {},
   "outputs": [
    {
     "data": {
      "application/vnd.microsoft.datawrangler.viewer.v0+json": {
       "columns": [
        {
         "name": "Store",
         "rawType": "object",
         "type": "string"
        },
        {
         "name": "count",
         "rawType": "float64",
         "type": "float"
        },
        {
         "name": "mean",
         "rawType": "float64",
         "type": "float"
        },
        {
         "name": "std",
         "rawType": "float64",
         "type": "float"
        },
        {
         "name": "min",
         "rawType": "float64",
         "type": "float"
        },
        {
         "name": "25%",
         "rawType": "float64",
         "type": "float"
        },
        {
         "name": "50%",
         "rawType": "float64",
         "type": "float"
        },
        {
         "name": "75%",
         "rawType": "float64",
         "type": "float"
        },
        {
         "name": "max",
         "rawType": "float64",
         "type": "float"
        }
       ],
       "ref": "e023a002-5f63-4abd-b999-8be2071ac05a",
       "rows": [
        [
         "Store A",
         "12.0",
         "19.505533236656728",
         "4.622596297592284",
         "11.998825859804283",
         "16.486341134043084",
         "19.832053654015944",
         "23.153489206639073",
         "25.71845813489685"
        ],
        [
         "Store B",
         "12.0",
         "18.23402458519362",
         "6.344639288250652",
         "9.196510913958582",
         "13.556983620828838",
         "19.187547074837",
         "24.351385930063998",
         "27.203191921865987"
        ],
        [
         "Store C",
         "12.0",
         "17.156126686905196",
         "5.541032929720684",
         "9.405423641679787",
         "13.517104886364375",
         "14.852790230277183",
         "19.922487959108565",
         "28.14666612955926"
        ]
       ],
       "shape": {
        "columns": 8,
        "rows": 3
       }
      },
      "text/html": [
       "<div>\n",
       "<style scoped>\n",
       "    .dataframe tbody tr th:only-of-type {\n",
       "        vertical-align: middle;\n",
       "    }\n",
       "\n",
       "    .dataframe tbody tr th {\n",
       "        vertical-align: top;\n",
       "    }\n",
       "\n",
       "    .dataframe thead th {\n",
       "        text-align: right;\n",
       "    }\n",
       "</style>\n",
       "<table border=\"1\" class=\"dataframe\">\n",
       "  <thead>\n",
       "    <tr style=\"text-align: right;\">\n",
       "      <th></th>\n",
       "      <th>count</th>\n",
       "      <th>mean</th>\n",
       "      <th>std</th>\n",
       "      <th>min</th>\n",
       "      <th>25%</th>\n",
       "      <th>50%</th>\n",
       "      <th>75%</th>\n",
       "      <th>max</th>\n",
       "    </tr>\n",
       "    <tr>\n",
       "      <th>Store</th>\n",
       "      <th></th>\n",
       "      <th></th>\n",
       "      <th></th>\n",
       "      <th></th>\n",
       "      <th></th>\n",
       "      <th></th>\n",
       "      <th></th>\n",
       "      <th></th>\n",
       "    </tr>\n",
       "  </thead>\n",
       "  <tbody>\n",
       "    <tr>\n",
       "      <th>Store A</th>\n",
       "      <td>12.0</td>\n",
       "      <td>19.505533</td>\n",
       "      <td>4.622596</td>\n",
       "      <td>11.998826</td>\n",
       "      <td>16.486341</td>\n",
       "      <td>19.832054</td>\n",
       "      <td>23.153489</td>\n",
       "      <td>25.718458</td>\n",
       "    </tr>\n",
       "    <tr>\n",
       "      <th>Store B</th>\n",
       "      <td>12.0</td>\n",
       "      <td>18.234025</td>\n",
       "      <td>6.344639</td>\n",
       "      <td>9.196511</td>\n",
       "      <td>13.556984</td>\n",
       "      <td>19.187547</td>\n",
       "      <td>24.351386</td>\n",
       "      <td>27.203192</td>\n",
       "    </tr>\n",
       "    <tr>\n",
       "      <th>Store C</th>\n",
       "      <td>12.0</td>\n",
       "      <td>17.156127</td>\n",
       "      <td>5.541033</td>\n",
       "      <td>9.405424</td>\n",
       "      <td>13.517105</td>\n",
       "      <td>14.852790</td>\n",
       "      <td>19.922488</td>\n",
       "      <td>28.146666</td>\n",
       "    </tr>\n",
       "  </tbody>\n",
       "</table>\n",
       "</div>"
      ],
      "text/plain": [
       "         count       mean       std        min        25%        50%  \\\n",
       "Store                                                                  \n",
       "Store A   12.0  19.505533  4.622596  11.998826  16.486341  19.832054   \n",
       "Store B   12.0  18.234025  6.344639   9.196511  13.556984  19.187547   \n",
       "Store C   12.0  17.156127  5.541033   9.405424  13.517105  14.852790   \n",
       "\n",
       "               75%        max  \n",
       "Store                          \n",
       "Store A  23.153489  25.718458  \n",
       "Store B  24.351386  27.203192  \n",
       "Store C  19.922488  28.146666  "
      ]
     },
     "execution_count": 6,
     "metadata": {},
     "output_type": "execute_result"
    }
   ],
   "source": [
    "df.groupby('Store') ['Profit_Margin'].describe()"
   ]
  },
  {
   "cell_type": "markdown",
   "id": "2640b7b9",
   "metadata": {},
   "source": [
    "***Average operating expenses as % of rev by store***"
   ]
  },
  {
   "cell_type": "code",
   "execution_count": 7,
   "id": "b5e13353",
   "metadata": {},
   "outputs": [
    {
     "data": {
      "application/vnd.microsoft.datawrangler.viewer.v0+json": {
       "columns": [
        {
         "name": "Store",
         "rawType": "object",
         "type": "string"
        },
        {
         "name": "Op_Expenses_Pct",
         "rawType": "float64",
         "type": "float"
        }
       ],
       "ref": "62879d4b-7d95-4249-a0f9-b4df174b3535",
       "rows": [
        [
         "Store A",
         "24.194163373678048"
        ],
        [
         "Store B",
         "24.60550010815737"
        ],
        [
         "Store C",
         "25.018644437428765"
        ]
       ],
       "shape": {
        "columns": 1,
        "rows": 3
       }
      },
      "text/plain": [
       "Store\n",
       "Store A    24.194163\n",
       "Store B    24.605500\n",
       "Store C    25.018644\n",
       "Name: Op_Expenses_Pct, dtype: float64"
      ]
     },
     "execution_count": 7,
     "metadata": {},
     "output_type": "execute_result"
    }
   ],
   "source": [
    "df['Op_Expenses_Pct'] = (df['Operating_Expenses'] / df['Revenue']) * 100\n",
    "df.groupby('Store')['Op_Expenses_Pct'].mean()"
   ]
  },
  {
   "cell_type": "markdown",
   "id": "6f0f3876",
   "metadata": {},
   "source": [
    "***Total taxes paid by store***"
   ]
  },
  {
   "cell_type": "code",
   "execution_count": 8,
   "id": "60727881",
   "metadata": {},
   "outputs": [
    {
     "data": {
      "application/vnd.microsoft.datawrangler.viewer.v0+json": {
       "columns": [
        {
         "name": "Store",
         "rawType": "object",
         "type": "string"
        },
        {
         "name": "Taxes",
         "rawType": "int64",
         "type": "integer"
        }
       ],
       "ref": "667df33a-045e-4861-9b75-da594d6f4b99",
       "rows": [
        [
         "Store A",
         "284212"
        ],
        [
         "Store B",
         "256984"
        ],
        [
         "Store C",
         "243467"
        ]
       ],
       "shape": {
        "columns": 1,
        "rows": 3
       }
      },
      "text/plain": [
       "Store\n",
       "Store A    284212\n",
       "Store B    256984\n",
       "Store C    243467\n",
       "Name: Taxes, dtype: int64"
      ]
     },
     "execution_count": 8,
     "metadata": {},
     "output_type": "execute_result"
    }
   ],
   "source": [
    "df.groupby('Store')['Taxes'].sum()"
   ]
  },
  {
   "cell_type": "markdown",
   "id": "3f06a0ef",
   "metadata": {},
   "source": [
    "***Basic correlation matrix***"
   ]
  },
  {
   "cell_type": "code",
   "execution_count": 10,
   "id": "4394b076",
   "metadata": {},
   "outputs": [
    {
     "data": {
      "application/vnd.microsoft.datawrangler.viewer.v0+json": {
       "columns": [
        {
         "name": "index",
         "rawType": "object",
         "type": "string"
        },
        {
         "name": "Revenue",
         "rawType": "float64",
         "type": "float"
        },
        {
         "name": "COGS",
         "rawType": "float64",
         "type": "float"
        },
        {
         "name": "Operating_Expenses",
         "rawType": "float64",
         "type": "float"
        },
        {
         "name": "Taxes",
         "rawType": "float64",
         "type": "float"
        },
        {
         "name": "Net_Profit",
         "rawType": "float64",
         "type": "float"
        },
        {
         "name": "Profit_Margin",
         "rawType": "float64",
         "type": "float"
        },
        {
         "name": "Op_Expenses_Pct",
         "rawType": "float64",
         "type": "float"
        }
       ],
       "ref": "8ebf35ef-a918-42d4-8a3b-cf9ec58bd54c",
       "rows": [
        [
         "Revenue",
         "1.0",
         "0.9120553207570026",
         "0.9160127702774904",
         "0.45984052161810796",
         "0.45983365753886624",
         "-0.328907083316527",
         "0.1444877146698338"
        ],
        [
         "COGS",
         "0.9120553207570026",
         "1.0",
         "0.8358965830903511",
         "0.08586222132661984",
         "0.08585448600470033",
         "-0.6411180912372342",
         "0.1397637579556844"
        ],
        [
         "Operating_Expenses",
         "0.9160127702774904",
         "0.8358965830903511",
         "1.0",
         "0.2774020693117068",
         "0.27739551734881446",
         "-0.45053119217874865",
         "0.5182810908062123"
        ],
        [
         "Taxes",
         "0.45984052161810796",
         "0.08586222132661984",
         "0.2774020693117068",
         "1.0",
         "0.9999999989095111",
         "0.6571804123520777",
         "-0.29218322890674553"
        ],
        [
         "Net_Profit",
         "0.45983365753886624",
         "0.08585448600470033",
         "0.27739551734881446",
         "0.9999999989095111",
         "1.0",
         "0.6571856764271167",
         "-0.2921865489716341"
        ],
        [
         "Profit_Margin",
         "-0.328907083316527",
         "-0.6411180912372342",
         "-0.45053119217874865",
         "0.6571804123520777",
         "0.6571856764271167",
         "1.0",
         "-0.45433499928844545"
        ],
        [
         "Op_Expenses_Pct",
         "0.1444877146698338",
         "0.1397637579556844",
         "0.5182810908062123",
         "-0.29218322890674553",
         "-0.2921865489716341",
         "-0.45433499928844545",
         "1.0"
        ]
       ],
       "shape": {
        "columns": 7,
        "rows": 7
       }
      },
      "text/html": [
       "<div>\n",
       "<style scoped>\n",
       "    .dataframe tbody tr th:only-of-type {\n",
       "        vertical-align: middle;\n",
       "    }\n",
       "\n",
       "    .dataframe tbody tr th {\n",
       "        vertical-align: top;\n",
       "    }\n",
       "\n",
       "    .dataframe thead th {\n",
       "        text-align: right;\n",
       "    }\n",
       "</style>\n",
       "<table border=\"1\" class=\"dataframe\">\n",
       "  <thead>\n",
       "    <tr style=\"text-align: right;\">\n",
       "      <th></th>\n",
       "      <th>Revenue</th>\n",
       "      <th>COGS</th>\n",
       "      <th>Operating_Expenses</th>\n",
       "      <th>Taxes</th>\n",
       "      <th>Net_Profit</th>\n",
       "      <th>Profit_Margin</th>\n",
       "      <th>Op_Expenses_Pct</th>\n",
       "    </tr>\n",
       "  </thead>\n",
       "  <tbody>\n",
       "    <tr>\n",
       "      <th>Revenue</th>\n",
       "      <td>1.000000</td>\n",
       "      <td>0.912055</td>\n",
       "      <td>0.916013</td>\n",
       "      <td>0.459841</td>\n",
       "      <td>0.459834</td>\n",
       "      <td>-0.328907</td>\n",
       "      <td>0.144488</td>\n",
       "    </tr>\n",
       "    <tr>\n",
       "      <th>COGS</th>\n",
       "      <td>0.912055</td>\n",
       "      <td>1.000000</td>\n",
       "      <td>0.835897</td>\n",
       "      <td>0.085862</td>\n",
       "      <td>0.085854</td>\n",
       "      <td>-0.641118</td>\n",
       "      <td>0.139764</td>\n",
       "    </tr>\n",
       "    <tr>\n",
       "      <th>Operating_Expenses</th>\n",
       "      <td>0.916013</td>\n",
       "      <td>0.835897</td>\n",
       "      <td>1.000000</td>\n",
       "      <td>0.277402</td>\n",
       "      <td>0.277396</td>\n",
       "      <td>-0.450531</td>\n",
       "      <td>0.518281</td>\n",
       "    </tr>\n",
       "    <tr>\n",
       "      <th>Taxes</th>\n",
       "      <td>0.459841</td>\n",
       "      <td>0.085862</td>\n",
       "      <td>0.277402</td>\n",
       "      <td>1.000000</td>\n",
       "      <td>1.000000</td>\n",
       "      <td>0.657180</td>\n",
       "      <td>-0.292183</td>\n",
       "    </tr>\n",
       "    <tr>\n",
       "      <th>Net_Profit</th>\n",
       "      <td>0.459834</td>\n",
       "      <td>0.085854</td>\n",
       "      <td>0.277396</td>\n",
       "      <td>1.000000</td>\n",
       "      <td>1.000000</td>\n",
       "      <td>0.657186</td>\n",
       "      <td>-0.292187</td>\n",
       "    </tr>\n",
       "    <tr>\n",
       "      <th>Profit_Margin</th>\n",
       "      <td>-0.328907</td>\n",
       "      <td>-0.641118</td>\n",
       "      <td>-0.450531</td>\n",
       "      <td>0.657180</td>\n",
       "      <td>0.657186</td>\n",
       "      <td>1.000000</td>\n",
       "      <td>-0.454335</td>\n",
       "    </tr>\n",
       "    <tr>\n",
       "      <th>Op_Expenses_Pct</th>\n",
       "      <td>0.144488</td>\n",
       "      <td>0.139764</td>\n",
       "      <td>0.518281</td>\n",
       "      <td>-0.292183</td>\n",
       "      <td>-0.292187</td>\n",
       "      <td>-0.454335</td>\n",
       "      <td>1.000000</td>\n",
       "    </tr>\n",
       "  </tbody>\n",
       "</table>\n",
       "</div>"
      ],
      "text/plain": [
       "                     Revenue      COGS  Operating_Expenses     Taxes  \\\n",
       "Revenue             1.000000  0.912055            0.916013  0.459841   \n",
       "COGS                0.912055  1.000000            0.835897  0.085862   \n",
       "Operating_Expenses  0.916013  0.835897            1.000000  0.277402   \n",
       "Taxes               0.459841  0.085862            0.277402  1.000000   \n",
       "Net_Profit          0.459834  0.085854            0.277396  1.000000   \n",
       "Profit_Margin      -0.328907 -0.641118           -0.450531  0.657180   \n",
       "Op_Expenses_Pct     0.144488  0.139764            0.518281 -0.292183   \n",
       "\n",
       "                    Net_Profit  Profit_Margin  Op_Expenses_Pct  \n",
       "Revenue               0.459834      -0.328907         0.144488  \n",
       "COGS                  0.085854      -0.641118         0.139764  \n",
       "Operating_Expenses    0.277396      -0.450531         0.518281  \n",
       "Taxes                 1.000000       0.657180        -0.292183  \n",
       "Net_Profit            1.000000       0.657186        -0.292187  \n",
       "Profit_Margin         0.657186       1.000000        -0.454335  \n",
       "Op_Expenses_Pct      -0.292187      -0.454335         1.000000  "
      ]
     },
     "execution_count": 10,
     "metadata": {},
     "output_type": "execute_result"
    }
   ],
   "source": [
    "df.corr(numeric_only=True)\n"
   ]
  },
  {
   "cell_type": "markdown",
   "id": "7a89cc56",
   "metadata": {},
   "source": [
    "*VISUALIZATIONS*"
   ]
  },
  {
   "cell_type": "markdown",
   "id": "cd81f332",
   "metadata": {},
   "source": [
    "****Revenue Trends****"
   ]
  },
  {
   "cell_type": "code",
   "execution_count": 12,
   "id": "a3884fc4",
   "metadata": {},
   "outputs": [
    {
     "data": {
      "image/png": "[encoded data removed]",
      "text/plain": [
       "<Figure size 1200x600 with 1 Axes>"
      ]
     },
     "metadata": {},
     "output_type": "display_data"
    }
   ],
   "source": [
    "plt.figure(figsize=(12, 6))\n",
    "sns.lineplot(data=df, x='Month', y='Revenue', hue='Store', marker='o')\n",
    "plt.title('Monthly Revenue Trend by Store')\n",
    "plt.xticks(rotation=45)\n",
    "plt.show()"
   ]
  },
  {
   "cell_type": "markdown",
   "id": "5781c3e8",
   "metadata": {},
   "source": [
    "****2.Profit Margin Distribution****"
   ]
  },
  {
   "cell_type": "code",
   "execution_count": 19,
   "id": "b457de7a",
   "metadata": {},
   "outputs": [
    {
     "data": {
      "image/png": "[encoded data removed]",
      "text/plain": [
       "<Figure size 1000x600 with 1 Axes>"
      ]
     },
     "metadata": {},
     "output_type": "display_data"
    }
   ],
   "source": [
    "plt.figure(figsize=(10, 6))\n",
    "sns.boxplot(data=df, x='Store', y='Profit_Margin', hue='Store', palette='Set2', legend=False)\n",
    "plt.title('Profit Margin Distribution by Store')\n",
    "plt.show()"
   ]
  },
  {
   "cell_type": "markdown",
   "id": "ccddba75",
   "metadata": {},
   "source": [
    "****Expense % Bar Chart****"
   ]
  },
  {
   "cell_type": "code",
   "execution_count": 18,
   "id": "91c6d1fa",
   "metadata": {},
   "outputs": [
    {
     "data": {
      "image/png": "[encoded data removed]",
      "text/plain": [
       "<Figure size 640x480 with 1 Axes>"
      ]
     },
     "metadata": {},
     "output_type": "display_data"
    }
   ],
   "source": [
    "avg_op_exp = df.groupby('Store')['Op_Expenses_Pct'].mean().reset_index()\n",
    "sns.barplot(data=avg_op_exp, x='Store', y='Op_Expenses_Pct', hue='Store', palette='Set2', legend=False)\n",
    "plt.title('Average Operating Expenses (% of Revenue)')\n",
    "plt.show()"
   ]
  },
  {
   "cell_type": "markdown",
   "id": "b6df2ec6",
   "metadata": {},
   "source": [
    "****Correlation Heatmap****"
   ]
  },
  {
   "cell_type": "code",
   "execution_count": 15,
   "id": "d5fd5dbe",
   "metadata": {},
   "outputs": [
    {
     "data": {
      "image/png": "[encoded data removed]",
      "text/plain": [
       "<Figure size 1000x800 with 2 Axes>"
      ]
     },
     "metadata": {},
     "output_type": "display_data"
    }
   ],
   "source": [
    "# Prepare data for regression analysis\n",
    "plt.figure(figsize=(10, 8))\n",
    "sns.heatmap(df.corr(numeric_only=True), annot=True, cmap='coolwarm', fmt='.2f')\n",
    "plt.title('Correlation Matrix')\n",
    "plt.show()\n"
   ]
  },
  {
   "cell_type": "code",
   "execution_count": null,
   "id": "5823c0ce",
   "metadata": {},
   "outputs": [],
   "source": []
  },
  {
   "cell_type": "markdown",
   "id": "73d7492e",
   "metadata": {},
   "source": [
    "## 📌 Key Insights\n",
    "\n",
    "- Store B consistently has higher profit margins than Store A & Store C.\n",
    "\n",
    "- Operating expenses are fairly stable as a % of revenue, averaging around 25%.\n",
    "\n",
    "- Revenue and net profit are strongly correlated (as expected).\n"
   ]
  },
  {
   "cell_type": "markdown",
   "id": "7bbbddf3",
   "metadata": {},
   "source": [
    "# ✅ Conclusion\n",
    "\n",
    "This analysis highlights profitability differences between stores and offers a  foundation for improving financial health across locations. Next steps could include forecasting, or building a dashboard in Power BI.\n",
    "\n"
   ]
  }
 ],
 "metadata": {
  "kernelspec": {
   "display_name": "Python 3",
   "language": "python",
   "name": "python3"
  },
  "language_info": {
   "codemirror_mode": {
    "name": "ipython",
    "version": 3
   },
   "file_extension": ".py",
   "mimetype": "text/x-python",
   "name": "python",
   "nbconvert_exporter": "python",
   "pygments_lexer": "ipython3",
   "version": "3.13.3"
  }
 },
 "nbformat": 4,
 "nbformat_minor": 5
}
